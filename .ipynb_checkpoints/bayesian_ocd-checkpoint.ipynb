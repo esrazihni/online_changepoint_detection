{
 "cells": [
  {
   "cell_type": "code",
   "execution_count": 11,
   "metadata": {
    "collapsed": true
   },
   "outputs": [],
   "source": [
    "import numpy as np\n",
    "import matplotlib.pyplot as plt\n",
    "from scipy.stats import t"
   ]
  },
  {
   "cell_type": "code",
   "execution_count": 12,
   "metadata": {
    "collapsed": true
   },
   "outputs": [],
   "source": [
    "def generate_normal_time_series(num, minl=50, maxl=1000):\n",
    "    data = np.array([], dtype=np.float64)\n",
    "    partition = np.random.randint(minl, maxl, num)\n",
    "    for p in partition:\n",
    "        mean = np.random.randn()*10\n",
    "        var = np.random.randn()*1\n",
    "        if var < 0:\n",
    "            var = var * -1\n",
    "        tdata = np.random.normal(mean, var, p)\n",
    "        data = np.concatenate((data, tdata))\n",
    "    return data\n"
   ]
  },
  {
   "cell_type": "code",
   "execution_count": 13,
   "metadata": {
    "collapsed": true,
    "scrolled": true
   },
   "outputs": [],
   "source": [
    "#Read and plot data\n",
    "\n",
    "DIR_FILENAME = 'dowj_1996-2018.csv'\n",
    "#dataset = np.genfromtxt(DIR_FILENAME, delimiter=',')\n",
    "\n",
    "\n",
    "dataset = generate_normal_time_series(8, 50, 200)"
   ]
  },
  {
   "cell_type": "code",
   "execution_count": 14,
   "metadata": {
    "collapsed": true
   },
   "outputs": [],
   "source": [
    "#Define functions\n",
    "\n",
    "def const_hazard(r,lambda_):\n",
    "    probs = np.ones(r)/lambda_\n",
    "    return probs\n",
    "\n",
    "def pred_prob(x,mu,alpha,kappa,beta):\n",
    "    center = mu\n",
    "    precision = (alpha*kappa)/(beta*(kappa+1))\n",
    "    deg_freedom = 2*alpha\n",
    "    pred = t.pdf(x, df= deg_freedom, loc= center,scale= np.sqrt(precision))\n",
    "    return pred\n",
    "\n",
    "def update_stats(x,mu,alpha,kappa,beta):\n",
    "    mu, alpha, kappa, beta = (kappa*mu + x) / (kappa+1.), alpha+0.5, kappa+1., beta +(kappa*(x-mu)**2)/(2*(kappa+1.))\n",
    "    return mu, alpha, kappa, beta\n"
   ]
  },
  {
   "cell_type": "code",
   "execution_count": 15,
   "metadata": {
    "collapsed": true
   },
   "outputs": [],
   "source": [
    "def inference(data, mu0 = 0, kappa0 = 1, alpha0= 0.1, beta0= 0.01, lam = [200]):\n",
    "    #Initialize\n",
    "    prob_r = np.zeros((len(data) + 1, len(data) + 1))\n",
    "    prob_r[0, 0] = 1\n",
    "    mu, kappa, alpha, beta = np.array([mu0]), np.array([kappa0]), np.array([alpha0]), np.array([beta0])\n",
    "    \n",
    "    #Start iteration   \n",
    "    for t,x in enumerate(data):      \n",
    "        #Calculate predictive probability for new data point\n",
    "        pred = pred_prob(x,mu,alpha,kappa,beta)\n",
    "        \n",
    "        #Calculate growth probability \n",
    "        prob_r[1:t+2,t+1] = prob_r[:t+1,t]* pred * (1-const_hazard(t+1,lam))\n",
    "\n",
    "        #Calculate changepoint probability\n",
    "        prob_r[0,t+1] = np.sum( prob_r[:t+1,t] * pred * const_hazard(t+1,lam))\n",
    "        \n",
    "        #Calculate evidence\n",
    "        sum_prob_r =  np.sum(prob_r[:,t+1])\n",
    "        \n",
    "        #Run length distribution\n",
    "        prob_r[:,t+1] /= sum_prob_r\n",
    "        \n",
    "        #Update sufficient statistics\n",
    "        mu_n, alpha_n, kappa_n, beta_n = update_stats(x, mu, alpha, kappa, beta) \n",
    "        mu, kappa, alpha, beta = np.append(np.array([mu0]), mu_n), np.append(np.array([kappa0]), kappa_n), np.append(np.array([alpha0]), alpha_n), np.append(np.array([beta0]), beta_n) \n",
    "    \n",
    "        \n",
    "    return prob_r"
   ]
  },
  {
   "cell_type": "code",
   "execution_count": 16,
   "metadata": {},
   "outputs": [
    {
     "name": "stderr",
     "output_type": "stream",
     "text": [
      "/home/esraz/anaconda3/lib/python3.6/site-packages/scipy/stats/_continuous_distns.py:3845: RuntimeWarning: overflow encountered in power\n",
      "  Px /= np.sqrt(r*np.pi)*(1+(x**2)/r)**((r+1)/2)\n",
      "/home/esraz/anaconda3/lib/python3.6/site-packages/scipy/stats/_continuous_distns.py:3845: RuntimeWarning: overflow encountered in multiply\n",
      "  Px /= np.sqrt(r*np.pi)*(1+(x**2)/r)**((r+1)/2)\n"
     ]
    }
   ],
   "source": [
    "p = inference(dataset)"
   ]
  },
  {
   "cell_type": "code",
   "execution_count": 17,
   "metadata": {},
   "outputs": [
    {
     "data": {
      "image/png": "[encoded data removed]",
      "text/plain": [
       "<matplotlib.figure.Figure at 0x7f052eb03da0>"
      ]
     },
     "metadata": {},
     "output_type": "display_data"
    }
   ],
   "source": [
    "# plot\n",
    "figure = plt.figure()\n",
    "ax = figure.add_subplot(2,1,1)\n",
    "ax.plot(dataset)\n",
    "\n",
    "plt.show()"
   ]
  },
  {
   "cell_type": "code",
   "execution_count": 18,
   "metadata": {},
   "outputs": [
    {
     "name": "stderr",
     "output_type": "stream",
     "text": [
      "/home/esraz/anaconda3/lib/python3.6/site-packages/ipykernel_launcher.py:2: RuntimeWarning: divide by zero encountered in log\n",
      "  \n"
     ]
    },
    {
     "data": {
      "image/png": "[encoded data removed]",
      "text/plain": [
       "<matplotlib.figure.Figure at 0x7f0537144d68>"
      ]
     },
     "metadata": {},
     "output_type": "display_data"
    }
   ],
   "source": [
    "plt.figure()\n",
    "plt.imshow(-np.log(p), interpolation='none', aspect='auto',\n",
    "origin='lower', cmap=plt.cm.Blues)\n",
    "plt.show()"
   ]
  },
  {
   "cell_type": "code",
   "execution_count": null,
   "metadata": {
    "collapsed": true
   },
   "outputs": [],
   "source": []
  },
  {
   "cell_type": "code",
   "execution_count": null,
   "metadata": {
    "collapsed": true
   },
   "outputs": [],
   "source": []
  },
  {
   "cell_type": "code",
   "execution_count": null,
   "metadata": {
    "collapsed": true
   },
   "outputs": [],
   "source": []
  },
  {
   "cell_type": "code",
   "execution_count": null,
   "metadata": {
    "collapsed": true
   },
   "outputs": [],
   "source": []
  }
 ],
 "metadata": {
  "kernelspec": {
   "display_name": "Python 3",
   "language": "python",
   "name": "python3"
  },
  "language_info": {
   "codemirror_mode": {
    "name": "ipython",
    "version": 3
   },
   "file_extension": ".py",
   "mimetype": "text/x-python",
   "name": "python",
   "nbconvert_exporter": "python",
   "pygments_lexer": "ipython3",
   "version": "3.6.3"
  }
 },
 "nbformat": 4,
 "nbformat_minor": 2
}
